{
 "cells": [
  {
   "cell_type": "markdown",
   "metadata": {},
   "source": [
    "# Using the forward and inverse kinematics"
   ]
  },
  {
   "cell_type": "markdown",
   "metadata": {},
   "source": [
    "![Banner](banner.png)"
   ]
  },
  {
   "cell_type": "markdown",
   "metadata": {
    "hide_input": true
   },
   "source": [
    "This notebook illustrates how you can use the kinematic chains defined by the PoppyTorso class to directly control the arms of the robot in the cartesian space.\n",
    "\n",
    "Said in a simpler way, this means that we will see how you can:\n",
    "* **get the end effector position from the joint angles of the motors (forward kinematic)**\n",
    "* **compute the joint angles needed to reach a specific cartesian point: i.e. a 3D position (inverse kinematic)**"
   ]
  },
  {
   "cell_type": "markdown",
   "metadata": {},
   "source": [
    "This is a particularly useful and efficient technique, for instance if you want to grab an object in a specific position."
   ]
  },
  {
   "cell_type": "markdown",
   "metadata": {},
   "source": [
    "The Torso robots defines two kinematic chains, one for each arm. They are in the same coordinates system. The origin of both chain is the first link of the robot: the base. They are composed of 7 joints. For the left chain:\n",
    "* abs_z\n",
    "* bust_y\n",
    "* bust_x\n",
    "* **l_shoulder_y**\n",
    "* **l_shoulder_x**\n",
    "* **l_arm_z**\n",
    "* **l_elbow_y**\n",
    "\n",
    "The 3 first joints are passiv, they are part of the chain (this allows two share the same origin for both chains) but are not effectively used, they will not be moved."
   ]
  },
  {
   "cell_type": "markdown",
   "metadata": {},
   "source": [
    "The figure below shows you a plot of both kinematics chains of the Torso (in the zero position):\n",
    "\n",
    "![IK chains of the Torso](./IK.png)"
   ]
  },
  {
   "cell_type": "markdown",
   "metadata": {},
   "source": [
    "All examples below are given using V-REP as it is safer when playing with your robot. You do not risk to break anything, in the worst case all you need to do is reset the simulation :-) All the examples below can be directly switched to a real robot."
   ]
  },
  {
   "cell_type": "markdown",
   "metadata": {},
   "source": [
    "## Simple example using V-REP"
   ]
  },
  {
   "cell_type": "markdown",
   "metadata": {},
   "source": [
    "First load you robot with the usual code:"
   ]
  },
  {
   "cell_type": "code",
   "execution_count": 1,
   "metadata": {
    "collapsed": false
   },
   "outputs": [],
   "source": [
    "from poppy.creatures import PoppyTorso\n",
    "\n",
    "poppy = PoppyTorso(simulator='vrep')"
   ]
  },
  {
   "cell_type": "markdown",
   "metadata": {},
   "source": [
    "Then, you can directly access the chains:"
   ]
  },
  {
   "cell_type": "code",
   "execution_count": 2,
   "metadata": {
    "collapsed": false
   },
   "outputs": [
    {
     "name": "stdout",
     "output_type": "stream",
     "text": [
      "<poppy.creatures.ik.IKChain object at 0x10a5e0e10>\n",
      "<poppy.creatures.ik.IKChain object at 0x10a7d3850>\n"
     ]
    }
   ],
   "source": [
    "print(poppy.l_arm_chain)\n",
    "print(poppy.r_arm_chain)"
   ]
  },
  {
   "cell_type": "markdown",
   "metadata": {},
   "source": [
    "And their respective motors:"
   ]
  },
  {
   "cell_type": "code",
   "execution_count": 3,
   "metadata": {
    "collapsed": false
   },
   "outputs": [
    {
     "data": {
      "text/plain": [
       "[u'abs_z',\n",
       " u'bust_y',\n",
       " u'bust_x',\n",
       " u'l_shoulder_y',\n",
       " u'l_shoulder_x',\n",
       " u'l_arm_z',\n",
       " u'l_elbow_y']"
      ]
     },
     "execution_count": 3,
     "metadata": {},
     "output_type": "execute_result"
    }
   ],
   "source": [
    "[m.name for m in poppy.l_arm_chain.motors]"
   ]
  },
  {
   "cell_type": "markdown",
   "metadata": {},
   "source": [
    "# Forward kinematics"
   ]
  },
  {
   "cell_type": "markdown",
   "metadata": {},
   "source": [
    "You can directly retrieve the current cartesian position of the end effector of a chain. For instance, assuming your robot is still in the rest positions:"
   ]
  },
  {
   "cell_type": "code",
   "execution_count": 4,
   "metadata": {
    "collapsed": false
   },
   "outputs": [
    {
     "data": {
      "text/plain": [
       "array([ 0.10410625, -0.1760726 ,  0.07096036])"
      ]
     },
     "execution_count": 4,
     "metadata": {},
     "output_type": "execute_result"
    }
   ],
   "source": [
    "poppy.l_arm_chain.end_effector"
   ]
  },
  {
   "cell_type": "markdown",
   "metadata": {},
   "source": [
    "This means that the end of the left arm is 0.10 meters on the right of the base of the robot, 0.17 meters in front and 0.07 meters up. "
   ]
  },
  {
   "cell_type": "markdown",
   "metadata": {},
   "source": [
    "*Note: the coordinates system is the same as V-REP so you can easily see the axis from the simulation.*"
   ]
  },
  {
   "cell_type": "markdown",
   "metadata": {},
   "source": [
    "The end effector position is **computed** from the joints position and the kinematic model of the robot. It is thus a theoretical position, which may differs from the real position due to the model imperfections."
   ]
  },
  {
   "cell_type": "markdown",
   "metadata": {},
   "source": [
    "The joints position of a chain can also be directly retrieved (the values are expressed in degrees):"
   ]
  },
  {
   "cell_type": "code",
   "execution_count": 5,
   "metadata": {
    "collapsed": false
   },
   "outputs": [
    {
     "data": {
      "text/plain": [
       "[-0.0, 0.2, 0.0, 0.0, -1.7000000000000028, 0.0, 0.0]"
      ]
     },
     "execution_count": 5,
     "metadata": {},
     "output_type": "execute_result"
    }
   ],
   "source": [
    "poppy.l_arm_chain.joints_position"
   ]
  },
  {
   "cell_type": "markdown",
   "metadata": {},
   "source": [
    "### Plotting"
   ]
  },
  {
   "cell_type": "markdown",
   "metadata": {},
   "source": [
    "Thanks to the [IKPy](https://github.com/Phylliade/ikpy) library, you can also directly plot a kinematic chain configuration using matplotlib."
   ]
  },
  {
   "cell_type": "markdown",
   "metadata": {},
   "source": [
    "For instance, the zero position of both arms:"
   ]
  },
  {
   "cell_type": "code",
   "execution_count": 6,
   "metadata": {
    "collapsed": false
   },
   "outputs": [
    {
     "name": "stdout",
     "output_type": "stream",
     "text": [
      "Populating the interactive namespace from numpy and matplotlib\n"
     ]
    },
    {
     "data": {
      "text/plain": [
       "(-0.5, 0.5)"
      ]
     },
     "execution_count": 6,
     "metadata": {},
     "output_type": "execute_result"
    },
    {
     "data": {
      "image/png": "[encoded data removed]",
      "text/plain": [
       "<matplotlib.figure.Figure at 0x10dbdfed0>"
      ]
     },
     "metadata": {},
     "output_type": "display_data"
    }
   ],
   "source": [
    "%pylab inline\n",
    "\n",
    "\n",
    "zero = [0] * 7\n",
    "\n",
    "ax = figure().add_subplot(111, projection='3d')\n",
    "poppy.l_arm_chain.plot(poppy.l_arm_chain.convert_to_ik_angles(zero), ax)\n",
    "poppy.r_arm_chain.plot(poppy.r_arm_chain.convert_to_ik_angles(zero), ax)\n",
    "xlim(-0.5, 0.5)\n",
    "ylim(-0.5, 0.5)"
   ]
  },
  {
   "cell_type": "markdown",
   "metadata": {},
   "source": [
    "*Note the use of the **convert_to_ik_angles** method which converts from pypot representation (using degrees, motor offset and orientation) to IKPy internal representation.*"
   ]
  },
  {
   "cell_type": "markdown",
   "metadata": {},
   "source": [
    "# Inverse kinematics"
   ]
  },
  {
   "cell_type": "markdown",
   "metadata": {},
   "source": [
    "You can also directly ask the robot, more precisely one of its kynematic chain, to reach a specific cartesian position. The [IKPy](https://github.com/Phylliade/ikpy) library will use an optimization technique to try to find the configuration of the joints that best match your target position."
   ]
  },
  {
   "cell_type": "markdown",
   "metadata": {},
   "source": [
    "For instance, if you want to move the robot left hand in front of its head, you can ask it to go the position [0, -0.15, 0.35]:"
   ]
  },
  {
   "cell_type": "code",
   "execution_count": 7,
   "metadata": {
    "collapsed": false
   },
   "outputs": [
    {
     "name": "stdout",
     "output_type": "stream",
     "text": [
      "Inverse kinematic optimisation OK, done in 37 iterations\n"
     ]
    }
   ],
   "source": [
    "poppy.l_arm_chain.goto((0.0, -0.15, 0.35), 2., wait=True)"
   ]
  },
  {
   "cell_type": "markdown",
   "metadata": {},
   "source": [
    "This is particularly useful when you want to directly control your robot in the cartesian space. For instance, it become rather easy to make the hand of the robot follow a circle:"
   ]
  },
  {
   "cell_type": "code",
   "execution_count": 8,
   "metadata": {
    "collapsed": false
   },
   "outputs": [
    {
     "name": "stdout",
     "output_type": "stream",
     "text": [
      "Inverse kinematic optimisation OK, done in 27 iterations\n",
      "Inverse kinematic optimisation OK, done in 32 iterations\n",
      "Inverse kinematic optimisation OK, done in 34 iterations\n",
      "Inverse kinematic optimisation OK, done in 29 iterations\n",
      "Inverse kinematic optimisation OK, done in 30 iterations\n",
      "Inverse kinematic optimisation OK, done in 30 iterations\n",
      "Inverse kinematic optimisation OK, done in 30 iterations\n",
      "Inverse kinematic optimisation OK, done in 30 iterations\n",
      "Inverse kinematic optimisation OK, done in 29 iterations\n",
      "Inverse kinematic optimisation OK, done in 27 iterations\n",
      "Inverse kinematic optimisation OK, done in 29 iterations\n",
      "Inverse kinematic optimisation OK, done in 28 iterations\n",
      "Inverse kinematic optimisation OK, done in 28 iterations\n",
      "Inverse kinematic optimisation OK, done in 30 iterations\n",
      "Inverse kinematic optimisation OK, done in 29 iterations\n",
      "Inverse kinematic optimisation OK, done in 30 iterations\n",
      "Inverse kinematic optimisation OK, done in 30 iterations\n",
      "Inverse kinematic optimisation OK, done in 30 iterations\n",
      "Inverse kinematic optimisation OK, done in 30 iterations\n",
      "Inverse kinematic optimisation OK, done in 30 iterations\n",
      "Inverse kinematic optimisation OK, done in 30 iterations\n",
      "Inverse kinematic optimisation OK, done in 28 iterations\n",
      "Inverse kinematic optimisation OK, done in 32 iterations\n",
      "Inverse kinematic optimisation OK, done in 31 iterations\n",
      "Inverse kinematic optimisation OK, done in 31 iterations\n",
      "Inverse kinematic optimisation OK, done in 31 iterations\n",
      "Inverse kinematic optimisation OK, done in 28 iterations\n"
     ]
    }
   ],
   "source": [
    "poppy.reset_simulation()\n",
    "\n",
    "r = .1\n",
    "x0, y0, z0 = (0.1, -0.15, 0.25)\n",
    "\n",
    "poppy.l_arm_chain.goto((x0, y0, z0), 1., wait=True)\n",
    "\n",
    "\n",
    "for alpha in arange(0, 2*pi, .25):\n",
    "    x = r * cos(alpha) + x0\n",
    "    z = r * sin(alpha) + z0\n",
    "    \n",
    "    poppy.l_arm_chain.goto((x, y0, z), .1)"
   ]
  },
  {
   "cell_type": "markdown",
   "metadata": {},
   "source": [
    "As you can see the movement may be jerky as each computation of the inverse kinematic takes some time."
   ]
  },
  {
   "cell_type": "markdown",
   "metadata": {},
   "source": [
    " The optimizer used by IKPy can be tweaked depending on what you want to do. This is beyond the scope of this tutorial, please refer directly to [IKPy documentation](https://github.com/Phylliade/ikpy) for details."
   ]
  },
  {
   "cell_type": "markdown",
   "metadata": {},
   "source": [
    "Finally, thanks to widgets you can also easily design a user interface for directly controlling your robot's hand!"
   ]
  },
  {
   "cell_type": "code",
   "execution_count": 9,
   "metadata": {
    "collapsed": false
   },
   "outputs": [
    {
     "name": "stdout",
     "output_type": "stream",
     "text": [
      "Inverse kinematic optimisation OK, done in 0 iterations\n"
     ]
    },
    {
     "data": {
      "text/plain": [
       "<function __main__.goto>"
      ]
     },
     "execution_count": 9,
     "metadata": {},
     "output_type": "execute_result"
    }
   ],
   "source": [
    "from ipywidgets import interact, FloatSlider\n",
    "\n",
    "poppy.reset_simulation()\n",
    "\n",
    "c = poppy.l_arm_chain\n",
    "\n",
    "x, y, z = c.end_effector\n",
    "size = 0.3\n",
    "\n",
    "def goto(x, y, z):\n",
    "    c.goto((x, y, z), .1)\n",
    "    \n",
    "interact(goto, \n",
    "         x=FloatSlider(min=x-size, max=x+size, value=x, step=0.01), \n",
    "         y=FloatSlider(min=y-size, max=y+size, value=y, step=0.01), \n",
    "         z=FloatSlider(min=z-size, max=z+size, value=z, step=0.01))"
   ]
  },
  {
   "cell_type": "code",
   "execution_count": null,
   "metadata": {
    "collapsed": true
   },
   "outputs": [],
   "source": []
  }
 ],
 "metadata": {
  "kernelspec": {
   "display_name": "Python 2",
   "language": "python",
   "name": "python2"
  },
  "language_info": {
   "codemirror_mode": {
    "name": "ipython",
    "version": 2
   },
   "file_extension": ".py",
   "mimetype": "text/x-python",
   "name": "python",
   "nbconvert_exporter": "python",
   "pygments_lexer": "ipython2",
   "version": "2.7.10"
  }
 },
 "nbformat": 4,
 "nbformat_minor": 0
}
